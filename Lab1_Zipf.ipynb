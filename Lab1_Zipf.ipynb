{
 "cells": [
  {
   "cell_type": "code",
   "execution_count": 1,
   "metadata": {
    "collapsed": true
   },
   "outputs": [],
   "source": [
    "%matplotlib inline\n",
    "import matplotlib.pyplot as plt\n",
    "import re"
   ]
  },
  {
   "cell_type": "code",
   "execution_count": 2,
   "metadata": {
    "collapsed": true
   },
   "outputs": [],
   "source": [
    "contents = open('data/LEE, Harper - To Kill A Mockingbird.txt').read()"
   ]
  },
  {
   "cell_type": "code",
   "execution_count": 3,
   "metadata": {
    "collapsed": false
   },
   "outputs": [
    {
     "data": {
      "text/plain": [
       "\"      Lawyers, I suppose, were children once.                      \\n                                                Charles Lamb                \\n                                                                            \\n\\n                               PART ONE                                     \\n                                  1                                         \\n                                                                           \\n  When he was nearly thirteen, my brother Jem got his arm badly broken      \\nat the elbow. When it healed, and Jem's fears of never being able to        \\nplay football were assuaged, he was seldom self-conscious about his         \\ninjury. His left arm was somewhat shorter than his right; when he           \\nstood or walked, the back of his hand was at right angles to his body,      \\nhis thumb parallel to his thigh. He couldn't have cared less, so            \\nlong as he could pass and punt.                                             \\n  When enough years had gone by to enable us to look back on them,          \\nwe sometimes discussed the events leading to his accident. I                \\nmaintain that the Ewells started it all, but Jem, who was four years        \\nmy senior, said it started long before that. He said it began the           \\nsummer Dill came to us, when Dill first gave us the idea of making Boo      \\nRadley come out.                                                            \\n  I said if he wanted to take a broad view of the thing, it really          \\nbegan with Andrew Jackson. If General Jackson hadn't run the Creeks up      \\nthe creek, Simon Finch would never have paddled up the Alabama, and         \\nwhere would we be if he hadn't? We were far too old to settle an            \\nargument with a fist-fight, so we consulted Atticus. Our father said        \\nwe were both right.                                                         \\n  Being Southerners, it was a source of shame to some members of the        \\nfamily \""
      ]
     },
     "execution_count": 3,
     "metadata": {},
     "output_type": "execute_result"
    }
   ],
   "source": [
    "contents[2000:4000]"
   ]
  },
  {
   "cell_type": "code",
   "execution_count": 4,
   "metadata": {
    "collapsed": false
   },
   "outputs": [
    {
     "data": {
      "text/plain": [
       "['1960',\n",
       " 'to',\n",
       " 'kill',\n",
       " 'a',\n",
       " 'mockingbird',\n",
       " 'by',\n",
       " 'harper',\n",
       " 'lee',\n",
       " 'copyright',\n",
       " '(c)']"
      ]
     },
     "execution_count": 4,
     "metadata": {},
     "output_type": "execute_result"
    }
   ],
   "source": [
    "cleaned_dummy = re.sub('[\\,\\.\\;\\n\\\"\\?\\!]+', ' ', contents.lower().replace(\"\\'\", '')).split()\n",
    "cleaned_dummy[:10]"
   ]
  },
  {
   "cell_type": "code",
   "execution_count": 5,
   "metadata": {
    "collapsed": false
   },
   "outputs": [],
   "source": [
    "from collections import Counter\n",
    "word_cnt = Counter(cleaned_dummy).most_common()"
   ]
  },
  {
   "cell_type": "code",
   "execution_count": 6,
   "metadata": {
    "collapsed": false
   },
   "outputs": [
    {
     "data": {
      "text/plain": [
       "[('the', 4080), ('to', 2547), ('and', 2415), ('i', 2358), ('a', 1913)]"
      ]
     },
     "execution_count": 6,
     "metadata": {},
     "output_type": "execute_result"
    }
   ],
   "source": [
    "word_cnt[:5]"
   ]
  },
  {
   "cell_type": "code",
   "execution_count": 7,
   "metadata": {
    "collapsed": true
   },
   "outputs": [],
   "source": [
    "import seaborn"
   ]
  },
  {
   "cell_type": "code",
   "execution_count": 8,
   "metadata": {
    "collapsed": false
   },
   "outputs": [
    {
     "data": {
      "text/plain": [
       "[<matplotlib.lines.Line2D at 0x117097ed0>]"
      ]
     },
     "execution_count": 8,
     "metadata": {},
     "output_type": "execute_result"
    },
    {
     "data": {
      "image/png": "[encoded data removed]",
      "text/plain": [
       "<matplotlib.figure.Figure at 0x114bdcc10>"
      ]
     },
     "metadata": {},
     "output_type": "display_data"
    }
   ],
   "source": [
    "plt.plot([x[1] for x in word_cnt[:100]])"
   ]
  },
  {
   "cell_type": "code",
   "execution_count": null,
   "metadata": {
    "collapsed": true
   },
   "outputs": [],
   "source": []
  }
 ],
 "metadata": {
  "anaconda-cloud": {},
  "kernelspec": {
   "display_name": "Python [Root]",
   "language": "python",
   "name": "Python [Root]"
  },
  "language_info": {
   "codemirror_mode": {
    "name": "ipython",
    "version": 2
   },
   "file_extension": ".py",
   "mimetype": "text/x-python",
   "name": "python",
   "nbconvert_exporter": "python",
   "pygments_lexer": "ipython2",
   "version": "2.7.11"
  }
 },
 "nbformat": 4,
 "nbformat_minor": 0
}
